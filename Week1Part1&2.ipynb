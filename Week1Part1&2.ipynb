{
 "cells": [
  {
   "cell_type": "markdown",
   "metadata": {},
   "source": [
    "## Recommend the neighborhoods for given type of cuisine "
   ]
  },
  {
   "cell_type": "markdown",
   "metadata": {},
   "source": [
    "### 1.\tIntroduction/Business Problem"
   ]
  },
  {
   "cell_type": "markdown",
   "metadata": {},
   "source": [
    "As modern consumers, we greatly benefit from restaurant recommendation applications. It is so convenient to get a list of restaurants that match our preferences without much clicking, comparing, and browsing through a long list of reviews for each single business.  \n",
    "\n",
    "In this project, I want to apply the algorithms to develop predictive models learned from the past  courses in this IBM Data Science certification. A Recommendation System to build a restaurant recommendation system that suggests the most suitable/popular neighborhoods for given type of cuisine/category by users.  \n",
    "\n",
    "This model can be used by the end users who are interested in finding neighborhoods for their preferred type of cuisines. \n"
   ]
  },
  {
   "cell_type": "markdown",
   "metadata": {},
   "source": [
    "### 2.\tData Description"
   ]
  },
  {
   "cell_type": "markdown",
   "metadata": {},
   "source": [
    "The dataset that I am going to use for this project is available free on the web. Here is the link to the dataset: https://geo.nyu.edu/catalog/nyu_2451_34572. I downloaded the json file from this link. This dataset contains information about the 5 boroughs of New York city and its neighborhoods. It also contains the latitude and longitude coordinates of each neighborhood.   \n",
    "\n",
    "In this json file, all the relevant information is stored in the ‘feature key’. I am going to extract this required information and convert it into python pandas dataframe format for easy analysis of the data. The features that I will extracting form the json file are   \n",
    "-  NY city Borough   \n",
    "-  Neighborhood   \n",
    "-  Latitude and Longitude coordinates.    \n",
    "\n",
    "I will be using the Foursquare location data and run a query on it for the required type of cuisine/category by the user. The information which is needed will be extracted from the ‘item’ key and will convert this as well in pandas dataframe.   \n",
    "\n",
    "Some of the features which I will be extracting from ‘item key’ of foursquare data will be \n",
    "-  Venue Name \n",
    "-  Venue Category \n",
    "-  Venue location Latitude and Longitude coordinate.  \n",
    "\n",
    "I will be using kmeans clustering and will use requested ‘categories’ to cluster the neighborhoods.\n"
   ]
  },
  {
   "cell_type": "code",
   "execution_count": null,
   "metadata": {
    "collapsed": true
   },
   "outputs": [],
   "source": []
  }
 ],
 "metadata": {
  "kernelspec": {
   "display_name": "Python 3",
   "language": "python",
   "name": "python3"
  },
  "language_info": {
   "codemirror_mode": {
    "name": "ipython",
    "version": 3
   },
   "file_extension": ".py",
   "mimetype": "text/x-python",
   "name": "python",
   "nbconvert_exporter": "python",
   "pygments_lexer": "ipython3",
   "version": "3.6.1"
  }
 },
 "nbformat": 4,
 "nbformat_minor": 2
}
